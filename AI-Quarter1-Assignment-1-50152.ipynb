{
 "cells": [
  {
   "cell_type": "markdown",
   "metadata": {},
   "source": [
    "# Assignment No. 1"
   ]
  },
  {
   "cell_type": "markdown",
   "metadata": {},
   "source": [
    "1. Calculate Area of a Circle"
   ]
  },
  {
   "cell_type": "code",
   "execution_count": 53,
   "metadata": {},
   "outputs": [
    {
     "name": "stdout",
     "output_type": "stream",
     "text": [
      " Please Enter the radius of a circle: 0.5\n",
      " Area of Circle = 0.79\n"
     ]
    }
   ],
   "source": [
    "import math\n",
    "\n",
    "radius = float(input(' Please Enter the radius of a circle: '))\n",
    "area = (math.pi) * (radius * radius)\n",
    "print(\" Area of Circle = %.2f\" %area)"
   ]
  },
  {
   "cell_type": "markdown",
   "metadata": {},
   "source": [
    "2. Check number either negative, positive or zero"
   ]
  },
  {
   "cell_type": "code",
   "execution_count": 54,
   "metadata": {},
   "outputs": [
    {
     "name": "stdout",
     "output_type": "stream",
     "text": [
      "Enter a number: -1\n",
      "Negative number\n"
     ]
    }
   ],
   "source": [
    "num = float(input(\"Enter a number: \"))\n",
    "if num >= 0:\n",
    "   if num == 0:\n",
    "       print(\"Zero\")\n",
    "   else:\n",
    "       print(\"Positive number\")\n",
    "else:\n",
    "   print(\"Negative number\")"
   ]
  },
  {
   "cell_type": "code",
   "execution_count": 55,
   "metadata": {},
   "outputs": [
    {
     "name": "stdout",
     "output_type": "stream",
     "text": [
      "Enter a number: 3\n",
      "Positive number\n"
     ]
    }
   ],
   "source": [
    "num = float(input(\"Enter a number: \"))\n",
    "if num >= 0:\n",
    "   if num == 0:\n",
    "       print(\"Zero\")\n",
    "   else:\n",
    "       print(\"Positive number\")\n",
    "else:\n",
    "   print(\"Negative number\")"
   ]
  },
  {
   "cell_type": "code",
   "execution_count": 56,
   "metadata": {},
   "outputs": [
    {
     "name": "stdout",
     "output_type": "stream",
     "text": [
      "Enter a number: 0\n",
      "Zero\n"
     ]
    }
   ],
   "source": [
    "num = float(input(\"Enter a number: \"))\n",
    "if num >= 0:\n",
    "   if num == 0:\n",
    "       print(\"Zero\")\n",
    "   else:\n",
    "       print(\"Positive number\")\n",
    "else:\n",
    "   print(\"Negative number\")\n"
   ]
  },
  {
   "cell_type": "markdown",
   "metadata": {},
   "source": [
    "3. Write a python program to check whether a number is completely divisible by another. Ask \n",
    "for two number inputs from the user."
   ]
  },
  {
   "cell_type": "code",
   "execution_count": 57,
   "metadata": {},
   "outputs": [
    {
     "name": "stdout",
     "output_type": "stream",
     "text": [
      "Enter number 1: 4\n",
      "Enter number 2: 2\n",
      "number 1 is completely divisible by number 2\n"
     ]
    }
   ],
   "source": [
    "num_1 = float(input('Enter number 1: '))\n",
    "num_2 = float(input('Enter number 2: '))\n",
    "if num_1 % num_2 == 0:\n",
    "    print('number 1 is completely divisible by number 2' )\n",
    "else:\n",
    "    print('number 1 isnt completely divisible by number 2')"
   ]
  },
  {
   "cell_type": "code",
   "execution_count": 58,
   "metadata": {},
   "outputs": [
    {
     "name": "stdout",
     "output_type": "stream",
     "text": [
      "Enter number 1: 7\n",
      "Enter number 2: 4\n",
      "number 1 isnt completely divisible by number 2\n"
     ]
    }
   ],
   "source": [
    "num_1 = float(input('Enter number 1: '))\n",
    "num_2 = float(input('Enter number 2: '))\n",
    "if num_1 % num_2 == 0:\n",
    "    print('number 1 is completely divisible by number 2' )\n",
    "else:\n",
    "    print('number 1 isnt completely divisible by number 2')"
   ]
  },
  {
   "cell_type": "markdown",
   "metadata": {},
   "source": [
    "4. Write a Python Program to calculate number of days between two dates."
   ]
  },
  {
   "cell_type": "code",
   "execution_count": null,
   "metadata": {},
   "outputs": [],
   "source": [
    "from datetime import date\n",
    "def no_of_days(date_1, date_2):\n",
    "    return date_2 - date_1\n",
    "date_1 = input('Enter date in (dd/mm/yy) format: ')\n",
    "date_2 = input('Enter date in (dd/mm/yy) format: ')\n",
    "print(no_of_days(date_1, date_2))"
   ]
  },
  {
   "cell_type": "markdown",
   "metadata": {},
   "source": [
    "5. Write a python program to calculate the volume of sphere taking radius as user input."
   ]
  },
  {
   "cell_type": "code",
   "execution_count": 59,
   "metadata": {},
   "outputs": [
    {
     "name": "stdout",
     "output_type": "stream",
     "text": [
      "Please Enter the Radius of a Sphere: 1\n",
      "\n",
      " The Volume of a Sphere = 4.19\n"
     ]
    }
   ],
   "source": [
    "PI = 3.14\n",
    "radius = float(input('Please Enter the Radius of a Sphere: '))\n",
    "Volume = (4 / 3) * PI * radius * radius * radius\n",
    "\n",
    "print(\"\\n The Volume of a Sphere = %.2f\" %Volume)"
   ]
  },
  {
   "cell_type": "markdown",
   "metadata": {},
   "source": [
    "6. Write a Python program to get a string which is n(non-negative number) times a string"
   ]
  },
  {
   "cell_type": "code",
   "execution_count": 60,
   "metadata": {},
   "outputs": [
    {
     "name": "stdout",
     "output_type": "stream",
     "text": [
      "Enter string: Hi\n",
      "How many copies of string you need: 4\n",
      "4 copies of string are HiHiHiHi\n"
     ]
    }
   ],
   "source": [
    "def mul_string(string,n):\n",
    "    return string*n\n",
    "string = str(input('Enter string: ')).capitalize()\n",
    "while True:\n",
    "    n = input(\"How many copies of string you need: \") \n",
    "    if n.isdigit(): \n",
    "        n = int(n)\n",
    "        break\n",
    "print(n, 'copies of string are', mul_string(string,n))\n",
    "\n"
   ]
  },
  {
   "cell_type": "markdown",
   "metadata": {},
   "source": [
    "7. Check if a number is even or odd"
   ]
  },
  {
   "cell_type": "code",
   "execution_count": 61,
   "metadata": {},
   "outputs": [
    {
     "name": "stdout",
     "output_type": "stream",
     "text": [
      "Enter Number: 4\n",
      "4 is even\n"
     ]
    }
   ],
   "source": [
    "num = int(input('Enter Number: '))\n",
    "if (num % 2) == 0:\n",
    "    print(\"{0} is even\". format(num))\n",
    "else:\n",
    "    print(\"{0} is odd\". format(num))"
   ]
  },
  {
   "cell_type": "code",
   "execution_count": 62,
   "metadata": {},
   "outputs": [
    {
     "name": "stdout",
     "output_type": "stream",
     "text": [
      "Enter Number: 9\n",
      "9 is Odd\n"
     ]
    }
   ],
   "source": [
    "num = int(input(\"Enter Number: \"))\n",
    "if (num % 2) == 0:\n",
    "   print(\"{0} is Even\".format(num))\n",
    "else:\n",
    "   print(\"{0} is Odd\".format(num))"
   ]
  },
  {
   "cell_type": "markdown",
   "metadata": {},
   "source": [
    "8. Write a Python Program to test whether a passed letter is vowel or not"
   ]
  },
  {
   "cell_type": "code",
   "execution_count": 64,
   "metadata": {},
   "outputs": [
    {
     "name": "stdout",
     "output_type": "stream",
     "text": [
      "Enter character: A\n",
      " Letter a is vowel\n"
     ]
    }
   ],
   "source": [
    "def find_vowel(letter):\n",
    "    vowels = ['a', 'e', 'i', 'o', 'u']\n",
    "    letter = input(\"Enter character: \").casefold()\n",
    "    \n",
    "    if letter in vowels:\n",
    "        return (f' Letter {letter} is vowel')\n",
    "    else:\n",
    "        return (f'Letter {letter} is not vowel')\n",
    "\n",
    "print(find_vowel('letter'))"
   ]
  },
  {
   "cell_type": "code",
   "execution_count": 66,
   "metadata": {},
   "outputs": [
    {
     "name": "stdout",
     "output_type": "stream",
     "text": [
      "Enter character: e\n",
      " Letter e is vowel\n"
     ]
    }
   ],
   "source": [
    "def find_vowel(letter):\n",
    "    vowels = ['a', 'e', 'i', 'o', 'u']\n",
    "    letter = input(\"Enter character: \").casefold()\n",
    "    \n",
    "    if letter in vowels:\n",
    "        return (f' Letter {letter} is vowel')\n",
    "    else:\n",
    "        return (f'Letter {letter} is not vowel')\n",
    "\n",
    "print(find_vowel('letter'))"
   ]
  },
  {
   "cell_type": "code",
   "execution_count": 67,
   "metadata": {},
   "outputs": [
    {
     "name": "stdout",
     "output_type": "stream",
     "text": [
      "Enter character: N\n",
      "Letter n is not vowel\n"
     ]
    }
   ],
   "source": [
    "def find_vowel(letter):\n",
    "    vowels = ['a', 'e', 'i', 'o', 'u']\n",
    "    letter = input(\"Enter character: \").casefold()\n",
    "    \n",
    "    if letter in vowels:\n",
    "        return (f' Letter {letter} is vowel')\n",
    "    else:\n",
    "        return (f'Letter {letter} is not vowel')\n",
    "\n",
    "print(find_vowel('letter'))"
   ]
  },
  {
   "cell_type": "markdown",
   "metadata": {},
   "source": [
    "9. Write a Python Program to compute the area of triangle by taking the base and height"
   ]
  },
  {
   "cell_type": "code",
   "execution_count": 68,
   "metadata": {},
   "outputs": [
    {
     "name": "stdout",
     "output_type": "stream",
     "text": [
      "Enter the magnitude of the base: 4\n",
      "Enter the magnitude of the height: 4\n",
      "Area of the triangle with Height 4.0 and Base 4.0 is 8.0\n"
     ]
    }
   ],
   "source": [
    "def area_triangle(base, height):\n",
    "    return (1/2 * base * height)\n",
    "base = float(input('Enter the magnitude of the base: '))\n",
    "height = float(input('Enter the magnitude of the height: '))\n",
    "print(\"Area of the triangle with Height\", height, \"and Base\", base, \"is\", area_triangle(base,height))"
   ]
  },
  {
   "cell_type": "markdown",
   "metadata": {},
   "source": [
    "10. Write a python program to compute the future value of a specified principal amount, rate of interest and \n",
    "a number of years."
   ]
  },
  {
   "cell_type": "code",
   "execution_count": 69,
   "metadata": {},
   "outputs": [
    {
     "name": "stdout",
     "output_type": "stream",
     "text": [
      "Please Enter Principal Amount: 10000\n",
      "Please Enter Rate of Interest in %: 0.1\n",
      "Enter number of years for investment: 5\n",
      "After 5 years your principal amount 10000 over an interest rate of 0.1 will be 16105.100000000006\n"
     ]
    }
   ],
   "source": [
    "def future_value(principal, rate_of_interest, no_of_years):\n",
    "    return principal*(1+rate_of_interest)**no_of_years\n",
    "principal = int(input(\"Please Enter Principal Amount: \"))\n",
    "rate_of_interest = float(input(\"Please Enter Rate of Interest in %: \"))\n",
    "no_of_years = int(input(\"Enter number of years for investment: \"))\n",
    "print(\"After\", no_of_years, \"years your principal amount\", principal, \"over an interest rate of\", rate_of_interest, \"will be\", future_value(principal, rate_of_interest, no_of_years))"
   ]
  },
  {
   "cell_type": "markdown",
   "metadata": {},
   "source": [
    "11. Write a Python program to compute the distance between the points (x1, y1) and (x2, y2)"
   ]
  },
  {
   "cell_type": "code",
   "execution_count": 1,
   "metadata": {},
   "outputs": [
    {
     "name": "stdout",
     "output_type": "stream",
     "text": [
      "Enter co-ordinate for x1= 2\n",
      "Enter co-ordinate for x2= 4\n",
      "Enter co-ordinate for y1= 4\n",
      "Enter co-ordinate for y2= 4\n",
      "Distance between points (2.0, 4.0) and (4.0, 4.0) is 2.0\n"
     ]
    }
   ],
   "source": [
    "x1=float(input(\"Enter co-ordinate for x1= \"))\n",
    "x2=float(input(\"Enter co-ordinate for x2= \"))\n",
    "y1=float(input(\"Enter co-ordinate for y1= \"))\n",
    "y2=float(input(\"Enter co-ordinate for y2= \"))\n",
    "distance=((x2-x1)**2+(y2-y1)**2)**0.5\n",
    "print(\"Distance between points\", (x1,x2), \"and\", (y1,y2), \"is\", distance)"
   ]
  },
  {
   "cell_type": "markdown",
   "metadata": {},
   "source": [
    "12. Write a Python program to convert height in feet into centimeters."
   ]
  },
  {
   "cell_type": "code",
   "execution_count": 2,
   "metadata": {},
   "outputs": [
    {
     "name": "stdout",
     "output_type": "stream",
     "text": [
      "Enter height in feet: 5\n",
      "There are 152.4 cm in 5.0 feet\n"
     ]
    }
   ],
   "source": [
    "def conversion(height, cm):\n",
    "    return height * 30.48\n",
    "height = float(input(\"Enter height in feet: \"))\n",
    "print(\"There are\", conversion(height,30.48), \"cm in\", height, \"feet\")"
   ]
  },
  {
   "cell_type": "markdown",
   "metadata": {},
   "source": [
    "13. Write a Python program to calculate body mass index."
   ]
  },
  {
   "cell_type": "code",
   "execution_count": 3,
   "metadata": {},
   "outputs": [
    {
     "name": "stdout",
     "output_type": "stream",
     "text": [
      "Enter your height(cm): 180\n",
      "Enter your weight(kg): 75\n",
      "Your BMI is:  23.15\n"
     ]
    }
   ],
   "source": [
    "height = float(input(\"Enter your height(cm): \"))\n",
    "weight = float(input(\"Enter your weight(kg): \"))\n",
    "print(\"Your BMI is: \", round(weight * 10000 / (height * height), 2))"
   ]
  },
  {
   "cell_type": "markdown",
   "metadata": {},
   "source": [
    "14. Write a Python program to compute sum of first n positive integers."
   ]
  },
  {
   "cell_type": "code",
   "execution_count": 3,
   "metadata": {},
   "outputs": [
    {
     "name": "stdout",
     "output_type": "stream",
     "text": [
      "Enter value of n: 5\n",
      "Sum of n positive integers till 5 is 15.0\n"
     ]
    }
   ],
   "source": [
    "n = int(input(\"Enter value of n: \"))\n",
    "sum_num = (n * (n + 1)) / 2\n",
    "print(\"Sum of n positive integers till\",n , \"is\",sum_num)"
   ]
  },
  {
   "cell_type": "markdown",
   "metadata": {},
   "source": [
    "15. Write a Python program to calculate the sum of digits in an integer."
   ]
  },
  {
   "cell_type": "code",
   "execution_count": 70,
   "metadata": {},
   "outputs": [
    {
     "name": "stdout",
     "output_type": "stream",
     "text": [
      "Enter a number: 15\n",
      "The sum of the digits in the number are 6\n"
     ]
    }
   ],
   "source": [
    "num = int(input(\"Enter a number: \"))\n",
    "x = num // 1000\n",
    "x1 = (num - x*1000) // 100\n",
    "x2 = (num - x*1000 - x1*100) // 10\n",
    "x3 = num - x*1000 - x1*100 - x2*10\n",
    "print(\"The sum of the digits in the number are\", x+x1+x2+x3)\n"
   ]
  },
  {
   "cell_type": "code",
   "execution_count": 71,
   "metadata": {},
   "outputs": [
    {
     "name": "stdout",
     "output_type": "stream",
     "text": [
      "Enter a number: 1234\n",
      "The sum of the digits in the number are 10\n"
     ]
    }
   ],
   "source": [
    "num = int(input(\"Enter a number: \"))\n",
    "x = num // 1000\n",
    "x1 = (num - x*1000) // 100\n",
    "x2 = (num - x*1000 - x1*100) // 10\n",
    "x3 = num - x*1000 - x1*100 - x2*10\n",
    "print(\"The sum of the digits in the number are\", x+x1+x2+x3)\n"
   ]
  },
  {
   "cell_type": "markdown",
   "metadata": {},
   "source": [
    "16. Write a Python program to convert a decimal integer to binary."
   ]
  },
  {
   "cell_type": "code",
   "execution_count": 72,
   "metadata": {},
   "outputs": [
    {
     "name": "stdout",
     "output_type": "stream",
     "text": [
      "Enter any decimal number: 5\n",
      "101"
     ]
    }
   ],
   "source": [
    "def decimalToBinary(num):\n",
    "    if num > 1:\n",
    "        decimalToBinary(num // 2)\n",
    "    print(num % 2, end='')\n",
    "number = int(input(\"Enter any decimal number: \"))\n",
    "decimalToBinary(number)\n",
    "\n"
   ]
  },
  {
   "cell_type": "code",
   "execution_count": 73,
   "metadata": {},
   "outputs": [
    {
     "name": "stdout",
     "output_type": "stream",
     "text": [
      "Enter any decimal number: 32\n",
      "100000"
     ]
    }
   ],
   "source": [
    "def decimalToBinary(num):\n",
    "    if num > 1:\n",
    "        decimalToBinary(num // 2)\n",
    "    print(num % 2, end='')\n",
    "number = int(input(\"Enter any decimal number: \"))\n",
    "decimalToBinary(number)\n"
   ]
  },
  {
   "cell_type": "markdown",
   "metadata": {},
   "source": [
    "17. Write a Python program to convert a binary into decimal integer."
   ]
  },
  {
   "cell_type": "code",
   "execution_count": 74,
   "metadata": {},
   "outputs": [
    {
     "name": "stdout",
     "output_type": "stream",
     "text": [
      "Enter 'x' for exit.\n",
      "Enter number in Binary Format: 1101\n",
      "1101 in Decimal = 13\n"
     ]
    }
   ],
   "source": [
    "print(\"Enter 'x' for exit.\");\n",
    "binary = input(\"Enter number in Binary Format: \");\n",
    "if binary == 'x':\n",
    "    exit();\n",
    "else:\n",
    "    decimal = int(binary, 2);\n",
    "    print(binary,\"in Decimal =\",decimal);"
   ]
  },
  {
   "cell_type": "code",
   "execution_count": 75,
   "metadata": {},
   "outputs": [
    {
     "name": "stdout",
     "output_type": "stream",
     "text": [
      "Enter 'x' for exit.\n",
      "Enter number in Binary Format: 1001\n",
      "1001 in Decimal = 9\n"
     ]
    }
   ],
   "source": [
    "print(\"Enter 'x' for exit.\");\n",
    "binary = input(\"Enter number in Binary Format: \");\n",
    "if binary == 'x':\n",
    "    exit();\n",
    "else:\n",
    "    decimal = int(binary, 2);\n",
    "    print(binary,\"in Decimal =\",decimal);"
   ]
  },
  {
   "cell_type": "markdown",
   "metadata": {},
   "source": [
    "18. Input a text and calculate the occurrences of vowels and consonants."
   ]
  },
  {
   "cell_type": "code",
   "execution_count": 2,
   "metadata": {},
   "outputs": [
    {
     "name": "stdout",
     "output_type": "stream",
     "text": [
      "Please Enter Your Own String : QuickBrownFoxJumpsOvertheDog\n",
      "Total Number of Vowels in this String =  9\n",
      "Total Number of Consonants in this String =  19\n"
     ]
    }
   ],
   "source": [
    "str1 = input(\"Please Enter Your Own String : \")\n",
    "vowels = 0\n",
    "consonants = 0\n",
    "\n",
    "for i in str1:\n",
    "    if(i == 'a' or i == 'e' or i == 'i' or i == 'o' or i == 'u'\n",
    "       or i == 'A' or i == 'E' or i == 'I' or i == 'O' or i == 'U'):\n",
    "        vowels = vowels + 1\n",
    "    else:\n",
    "        consonants = consonants + 1\n",
    " \n",
    "print(\"Total Number of Vowels in this String = \", vowels)\n",
    "print(\"Total Number of Consonants in this String = \", consonants)"
   ]
  },
  {
   "cell_type": "markdown",
   "metadata": {},
   "source": [
    "19. Write a program to find whether the given input is plaindrome or not."
   ]
  },
  {
   "cell_type": "code",
   "execution_count": 3,
   "metadata": {},
   "outputs": [
    {
     "name": "stdout",
     "output_type": "stream",
     "text": [
      "Enter stringAHA\n",
      "The string is a palindrome.\n"
     ]
    }
   ],
   "source": [
    "my_str = input('Enter string').casefold()\n",
    "rev_str = reversed(my_str)\n",
    "if list(my_str) == list(rev_str):\n",
    "   print(\"The string is a palindrome.\")\n",
    "else:\n",
    "   print(\"The string is not a palindrome.\")"
   ]
  },
  {
   "cell_type": "code",
   "execution_count": 5,
   "metadata": {},
   "outputs": [
    {
     "name": "stdout",
     "output_type": "stream",
     "text": [
      "Enter stringHello\n",
      "The string is not a palindrome.\n"
     ]
    }
   ],
   "source": [
    "my_str = input('Enter string').casefold()\n",
    "rev_str = reversed(my_str)\n",
    "if list(my_str) == list(rev_str):\n",
    "   print(\"The string is a palindrome.\")\n",
    "else:\n",
    "   print(\"The string is not a palindrome.\")"
   ]
  },
  {
   "cell_type": "markdown",
   "metadata": {},
   "source": [
    "20. Count Alphabets, numbers and special charachters."
   ]
  },
  {
   "cell_type": "code",
   "execution_count": 19,
   "metadata": {},
   "outputs": [
    {
     "name": "stdout",
     "output_type": "stream",
     "text": [
      "enter the string-->python 3.2\n",
      "Numbers:  6\n",
      "Alphabets:  2\n",
      "Spaces:  1\n",
      "Special Charachters:  1\n"
     ]
    }
   ],
   "source": [
    "stre=input(\"enter the string-->\")\n",
    "countl=0\n",
    "countn=0\n",
    "counts=0\n",
    "counto=0\n",
    "for i in stre:\n",
    "    if i.isalpha():\n",
    "        countl+=1\n",
    "    elif i.isdigit():\n",
    "        countn+=1\n",
    "    elif i.isspace():\n",
    "        counts+=1\n",
    "    else:\n",
    "        counto+=1\n",
    "print(\"Numbers: \",countl)\n",
    "print(\"Alphabets: \",countn)\n",
    "print(\"Spaces: \",counts)\n",
    "print(\"Special Charachters: \",counto)"
   ]
  },
  {
   "cell_type": "markdown",
   "metadata": {},
   "source": [
    "21. Write a Python program to construct the following pattern."
   ]
  },
  {
   "cell_type": "code",
   "execution_count": 23,
   "metadata": {},
   "outputs": [
    {
     "name": "stdout",
     "output_type": "stream",
     "text": [
      "\n",
      "* \n",
      "* * \n",
      "* * * \n",
      "* * * * \n",
      "* * * * * \n",
      "* * * * \n",
      "* * * \n",
      "* * \n",
      "* \n"
     ]
    }
   ],
   "source": [
    "n=5;\n",
    "for i in range(n):\n",
    "    for j in range(i):\n",
    "        print ('* ', end=\"\")\n",
    "    print('')\n",
    "\n",
    "for i in range(n,0,-1):\n",
    "    for j in range(i):\n",
    "        print('* ', end=\"\")\n",
    "    print('')\n"
   ]
  },
  {
   "cell_type": "markdown",
   "metadata": {},
   "source": [
    "22. Write a Python program to construct the following pattern."
   ]
  },
  {
   "cell_type": "code",
   "execution_count": 51,
   "metadata": {},
   "outputs": [
    {
     "name": "stdout",
     "output_type": "stream",
     "text": [
      "1 \r\n",
      "1 2 \r\n",
      "1 2 3 \r\n",
      "1 2 3 4 \r\n",
      "1 2 3 4 5 \r\n",
      "1 2 3 4 \r\n",
      "1 2 3 \r\n",
      "1 2 \r\n",
      "1 \r\n"
     ]
    }
   ],
   "source": [
    "\n",
    "def numpat(n): \n",
    "    num = 1\n",
    "    for i in range(0, n): \n",
    "        num = 1\n",
    "        for j in range(0, i+1): \n",
    "            print(num, end=\" \") \n",
    "            num = num + 1\n",
    "        print(\"\\r\")\n",
    "    for i in range(n-1,0,-1): \n",
    "        num = 1\n",
    "        for j in range(i): \n",
    "            print(num, end=\" \") \n",
    "            num = num + 1\n",
    "        print(\"\\r\")\n",
    "    \n",
    "n = 5\n",
    "numpat(n) \n"
   ]
  },
  {
   "cell_type": "markdown",
   "metadata": {},
   "source": [
    "23. Write a Python program to construct the following pattern.\n"
   ]
  },
  {
   "cell_type": "code",
   "execution_count": 52,
   "metadata": {},
   "outputs": [
    {
     "name": "stdout",
     "output_type": "stream",
     "text": [
      "\n",
      "1\n",
      "22\n",
      "333\n",
      "4444\n",
      "55555\n",
      "666666\n",
      "7777777\n",
      "88888888\n",
      "999999999\n"
     ]
    }
   ],
   "source": [
    "for i in range(10):\n",
    "    print(str(i) * i)\n"
   ]
  },
  {
   "cell_type": "code",
   "execution_count": null,
   "metadata": {},
   "outputs": [],
   "source": []
  }
 ],
 "metadata": {
  "kernelspec": {
   "display_name": "Python 3",
   "language": "python",
   "name": "python3"
  },
  "language_info": {
   "codemirror_mode": {
    "name": "ipython",
    "version": 3
   },
   "file_extension": ".py",
   "mimetype": "text/x-python",
   "name": "python",
   "nbconvert_exporter": "python",
   "pygments_lexer": "ipython3",
   "version": "3.7.4"
  }
 },
 "nbformat": 4,
 "nbformat_minor": 2
}
